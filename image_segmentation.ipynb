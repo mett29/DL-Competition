{
  "nbformat": 4,
  "nbformat_minor": 0,
  "metadata": {
    "kernelspec": {
      "name": "python3",
      "display_name": "Python 3"
    },
    "language_info": {
      "codemirror_mode": {
        "name": "ipython",
        "version": 3
      },
      "file_extension": ".py",
      "mimetype": "text/x-python",
      "name": "python",
      "nbconvert_exporter": "python",
      "pygments_lexer": "ipython3",
      "version": "3.7.4"
    },
    "colab": {
      "name": "first try (5).ipynb",
      "provenance": [],
      "toc_visible": true,
      "include_colab_link": true
    },
    "accelerator": "GPU"
  },
  "cells": [
    {
      "cell_type": "markdown",
      "metadata": {
        "id": "view-in-github",
        "colab_type": "text"
      },
      "source": [
        "<a href=\"https://colab.research.google.com/github/mett29/DL-Competition/blob/master/image_segmentation.ipynb\" target=\"_parent\"><img src=\"https://colab.research.google.com/assets/colab-badge.svg\" alt=\"Open In Colab\"/></a>"
      ]
    },
    {
      "cell_type": "code",
      "metadata": {
        "id": "MPoChw4teENh",
        "colab_type": "code",
        "trusted": false,
        "colab": {}
      },
      "source": [
        "\n",
        "# This permits to load the dataset on colab.\n",
        "# We chose to take advantage of github to rapidly load all the data on colab.\n",
        "\n",
        "from getpass import getpass\n",
        "import os\n",
        "\n",
        "user = getpass('Github user')\n",
        "password = getpass('Github password')\n",
        "os.environ['GITHUB_AUTH'] = user + ':' + password\n",
        "\n",
        "!git clone https://$GITHUB_AUTH@github.com/DanieleParravicini/DL-CompetitionsDatasets\n",
        "os.environ['GITHUB_AUTH'] = ''\n",
        "\n",
        "# Of course it is not mandatory to load the dataset from a remote repo.\n",
        "# You can simply unpack the kaggle competition zip in a local directory named 'DL-CompetitionsDatasets'\n",
        "# As depicted below:"
      ],
      "execution_count": 0,
      "outputs": []
    },
    {
      "cell_type": "code",
      "metadata": {
        "trusted": true,
        "id": "6KsWnV7cdtbl",
        "colab_type": "code",
        "outputId": "7ec8717e-54fe-4bf3-8f26-91be9375edc2",
        "colab": {
          "base_uri": "https://localhost:8080/",
          "height": 33
        }
      },
      "source": [
        "from __future__ import absolute_import, division, print_function, unicode_literals\n",
        "try:\n",
        "  # %tensorflow_version only exists in Colab.\n",
        "  %tensorflow_version 2.x\n",
        "except Exception:\n",
        "    pass\n",
        "import tensorflow as tf\n",
        "print(tf.__version__)\n",
        "\n",
        "from tensorflow.keras.preprocessing.image import ImageDataGenerator\n",
        "from tensorflow.keras.preprocessing import image\n",
        "\n",
        "import time\n",
        "import os\n",
        "import numpy as np\n",
        "import matplotlib.pyplot as plt"
      ],
      "execution_count": 0,
      "outputs": [
        {
          "output_type": "stream",
          "text": [
            "2.0.0\n"
          ],
          "name": "stdout"
        }
      ]
    },
    {
      "cell_type": "markdown",
      "metadata": {
        "id": "op8q0mdhfWwC",
        "colab_type": "text"
      },
      "source": [
        "# Loading datasets"
      ]
    },
    {
      "cell_type": "code",
      "metadata": {
        "trusted": true,
        "id": "RahlTA_Sdtbo",
        "colab_type": "code",
        "colab": {}
      },
      "source": [
        "SEED = 2019\n",
        "tf.random.set_seed(SEED)"
      ],
      "execution_count": 0,
      "outputs": []
    },
    {
      "cell_type": "code",
      "metadata": {
        "trusted": true,
        "id": "tZmQ1zuqdtbr",
        "colab_type": "code",
        "colab": {}
      },
      "source": [
        "IMG_HEIGHT = 256\n",
        "IMG_WIDTH = 256\n",
        "PATH = ''\n",
        "on_kaggle = True\n",
        "if on_kaggle: \n",
        "  PATH = \"/kaggle/input/ann-and-dl-image-segmentation/Segmentation_Dataset\"\n",
        "else:\n",
        "  PATH = 'DL-CompetitionsDatasets/Segmentation_Dataset'\n",
        "epochs = 5\n",
        "batch_size = 32"
      ],
      "execution_count": 0,
      "outputs": []
    },
    {
      "cell_type": "code",
      "metadata": {
        "trusted": true,
        "id": "mJgpIedXdtbt",
        "colab_type": "code",
        "colab": {}
      },
      "source": [
        "apply_data_augmentation = False\n",
        "\n",
        "# We need two different generators for images and corresponding masks\n",
        "if apply_data_augmentation:\n",
        "    train_img_data_gen = ImageDataGenerator(rotation_range=10,\n",
        "                                        zoom_range=[0.5,1],\n",
        "                                        horizontal_flip=True,\n",
        "                                        vertical_flip=True,  \n",
        "                                        fill_mode='nearest',                           \n",
        "                                        rescale=1./255,\n",
        "                                        validation_split=0.2)\n",
        "    train_mask_data_gen = ImageDataGenerator(rotation_range=10,\n",
        "                                        zoom_range=[0.5,1],\n",
        "                                        horizontal_flip=True,\n",
        "                                        vertical_flip=True,  \n",
        "                                        fill_mode='nearest',                           \n",
        "                                        rescale=1./255,\n",
        "                                        validation_split=0.2) \n",
        "else:\n",
        "    train_img_data_gen = ImageDataGenerator(rescale=1./255, validation_split=0.2)\n",
        "    train_mask_data_gen = ImageDataGenerator(rescale=1./255, validation_split=0.2)"
      ],
      "execution_count": 0,
      "outputs": []
    },
    {
      "cell_type": "code",
      "metadata": {
        "trusted": true,
        "id": "m19UpUqjdtbv",
        "colab_type": "code",
        "outputId": "b66fee46-b98f-4f27-e30c-da000d3b8f74",
        "colab": {
          "base_uri": "https://localhost:8080/",
          "height": 82
        }
      },
      "source": [
        "dataset_dir = os.path.join(PATH, 'training')\n",
        "\n",
        "train_img_gen = train_img_data_gen.flow_from_directory(os.path.join(dataset_dir, 'images'),\n",
        "                                               batch_size=batch_size,\n",
        "                                               target_size=(IMG_HEIGHT, IMG_WIDTH),\n",
        "                                               class_mode=None,\n",
        "                                               shuffle=True,\n",
        "                                               subset='training',\n",
        "                                               #interpolation='bilinear',\n",
        "                                               seed=SEED)\n",
        "\n",
        "train_mask_gen = train_mask_data_gen.flow_from_directory(os.path.join(dataset_dir, 'masks'),\n",
        "                                               batch_size=batch_size,\n",
        "                                               target_size=(IMG_HEIGHT, IMG_WIDTH),\n",
        "                                               class_mode=None,\n",
        "                                               shuffle=True,\n",
        "                                               subset='training',\n",
        "                                               #interpolation='bilinear',\n",
        "                                               color_mode='grayscale',\n",
        "                                               seed=SEED)\n",
        "\n",
        "train_gen = zip(train_img_gen, train_mask_gen)\n",
        "\n",
        "# Validation\n",
        "valid_img_gen = train_img_data_gen.flow_from_directory(os.path.join(dataset_dir, 'images'),\n",
        "                                               batch_size=batch_size, \n",
        "                                               target_size=(IMG_HEIGHT, IMG_WIDTH),\n",
        "                                               class_mode=None,\n",
        "                                               shuffle=False,\n",
        "                                               subset='validation',\n",
        "                                               #interpolation='bilinear',\n",
        "                                               seed=SEED)\n",
        "\n",
        "valid_mask_gen = train_mask_data_gen.flow_from_directory(os.path.join(dataset_dir, 'masks'),\n",
        "                                               batch_size=batch_size, \n",
        "                                               target_size=(IMG_HEIGHT, IMG_WIDTH),\n",
        "                                               class_mode=None,\n",
        "                                               shuffle=False,\n",
        "                                               subset='validation',\n",
        "                                               #interpolation='bilinear',\n",
        "                                               color_mode='grayscale',\n",
        "                                               seed=SEED)\n",
        "\n",
        "valid_gen = zip(valid_img_gen, valid_mask_gen)"
      ],
      "execution_count": 0,
      "outputs": [
        {
          "output_type": "stream",
          "text": [
            "Found 6118 images belonging to 1 classes.\n",
            "Found 6118 images belonging to 1 classes.\n",
            "Found 1529 images belonging to 1 classes.\n",
            "Found 1529 images belonging to 1 classes.\n"
          ],
          "name": "stdout"
        }
      ]
    },
    {
      "cell_type": "code",
      "metadata": {
        "trusted": true,
        "id": "SjJ0UuW_dtbx",
        "colab_type": "code",
        "colab": {}
      },
      "source": [
        "def plotImages(images_arr):\n",
        "    fig, axes = plt.subplots(1, 4, figsize=(15, 15))\n",
        "    axes = axes.flatten()\n",
        "    for img, ax in zip(images_arr, axes):\n",
        "        ax.imshow(img)\n",
        "        ax.axis('off')\n",
        "    plt.tight_layout()\n",
        "    plt.show()"
      ],
      "execution_count": 0,
      "outputs": []
    },
    {
      "cell_type": "code",
      "metadata": {
        "trusted": true,
        "id": "FsZBDAs2dtbz",
        "colab_type": "code",
        "colab": {}
      },
      "source": [
        "def grayscale_to_colour(gray_img):\n",
        "  \n",
        "  black = [0, 0, 0] # Background\n",
        "  white = [255, 255, 255] # Buildings\n",
        "\n",
        "  colour_img = np.zeros([gray_img.shape[0], gray_img.shape[1], 3])\n",
        "  return np.where(gray_img == 1, white, black )\n",
        "\n",
        "\n",
        "sample_training_images, sample_training_masks = next(train_gen)\n",
        "plotImages(sample_training_images[:4])\n",
        "sample_training_masks_imaged = list(map( grayscale_to_colour ,sample_training_masks[:4]))\n",
        "plotImages(sample_training_masks_imaged)"
      ],
      "execution_count": 0,
      "outputs": []
    },
    {
      "cell_type": "code",
      "metadata": {
        "trusted": true,
        "id": "WYz9SmR3dtb1",
        "colab_type": "code",
        "outputId": "b310f74e-f093-4a10-bfef-689d4bb9c88b",
        "colab": {
          "base_uri": "https://localhost:8080/",
          "height": 33
        }
      },
      "source": [
        "train_dataset = tf.data.Dataset.from_generator(lambda: train_gen,\n",
        "                                               output_types=(tf.float32, tf.float32),\n",
        "                                               output_shapes=([None, IMG_HEIGHT, IMG_WIDTH, 3], [None, IMG_HEIGHT, IMG_WIDTH, 1]))\n",
        "\n",
        "'''When using data augmentation on masks it's a good idea to cast mask tensor to tf.int32. \n",
        "When applying geometric transformations, like rotation or zoom, the output is interpolated so you will end up with values in [0, 1] \n",
        "which are no longer binary. Casting to integer will allow to obtain again binary masks.'''\n",
        "\n",
        "def prepare_target(x_, y_):\n",
        "    y2_ = tf.cast(tf.cast(y_, tf.int32), tf.float32)\n",
        "    return x_, y2_\n",
        "\n",
        "train_dataset = train_dataset.map(prepare_target)\n",
        "train_dataset = train_dataset.repeat()\n",
        "train_dataset.cache()\n",
        "\n",
        "valid_dataset = tf.data.Dataset.from_generator(lambda: valid_gen,\n",
        "                                               output_types=(tf.float32, tf.float32),\n",
        "                                               output_shapes=([None, IMG_HEIGHT, IMG_WIDTH, 3], [None, IMG_HEIGHT, IMG_WIDTH, 1]))\n",
        "\n",
        "valid_dataset = valid_dataset.map(prepare_target)\n",
        "valid_dataset = valid_dataset.repeat()\n",
        "valid_dataset.cache()"
      ],
      "execution_count": 0,
      "outputs": [
        {
          "output_type": "execute_result",
          "data": {
            "text/plain": [
              "<DatasetV1Adapter shapes: ((None, 256, 256, 3), (None, 256, 256, 1)), types: (tf.float32, tf.float32)>"
            ]
          },
          "metadata": {
            "tags": []
          },
          "execution_count": 42
        }
      ]
    },
    {
      "cell_type": "code",
      "metadata": {
        "trusted": true,
        "id": "rJdsFlAqdtb5",
        "colab_type": "code",
        "colab": {}
      },
      "source": [
        "fig, ax = plt.subplots(1, 2)\n",
        "fig.show()\n",
        "\n",
        "colors_dict = {}\n",
        "colors_dict[0] = [0, 0, 0] # Background\n",
        "colors_dict[1] = [255, 255, 255] # Buildings\n",
        "\n",
        "iterator = iter(train_dataset)\n",
        "\n",
        "for _ in range(1):\n",
        "    augmented_img, target = next(iterator)\n",
        "    augmented_img = augmented_img[0]\n",
        "    augmented_img = augmented_img * 255\n",
        "    \n",
        "    ax[0].imshow(np.uint8(augmented_img))\n",
        "    ax[1].imshow(np.uint8(grayscale_to_colour(target[0])))"
      ],
      "execution_count": 0,
      "outputs": []
    },
    {
      "cell_type": "markdown",
      "metadata": {
        "id": "Kx_ejwkNdtb7",
        "colab_type": "text"
      },
      "source": [
        "# Model"
      ]
    },
    {
      "cell_type": "code",
      "metadata": {
        "trusted": true,
        "id": "lI3n8UgCdtb8",
        "colab_type": "code",
        "colab": {}
      },
      "source": [
        "def down_block(x, filters, kernel_size=(3, 3), padding=\"same\", strides=1):\n",
        "    c = tf.keras.layers.Conv2D(filters, kernel_size, padding=padding, strides=strides, activation=\"relu\")(x)\n",
        "    c = tf.keras.layers.Conv2D(filters, kernel_size, padding=padding, strides=strides, activation=\"relu\")(c)\n",
        "    d = tf.keras.layers.SpatialDropout2D(0.1)(c)\n",
        "    p = tf.keras.layers.MaxPool2D((2, 2), (2, 2))(d)\n",
        "    return d, p\n",
        "\n",
        "def up_block(x, skip, filters, kernel_size=(3, 3), padding=\"same\", strides=1):\n",
        "    #us = tf.keras.layers.UpSampling2D((2, 2))(x)\n",
        "    us =  tf.keras.layers.Conv2DTranspose(filters ,(2, 2), strides=(2,2))(x)\n",
        "    concat = tf.keras.layers.Concatenate()([us, skip])\n",
        "    c = tf.keras.layers.Conv2D(filters, kernel_size, padding=padding, strides=strides, activation=\"relu\")(concat)\n",
        "    c = tf.keras.layers.Conv2D(filters, kernel_size, padding=padding, strides=strides, activation=\"relu\")(c)\n",
        "    return c\n",
        "\n",
        "def bottleneck(x, filters, kernel_size=(3, 3), padding=\"same\", strides=1):\n",
        "    c = tf.keras.layers.Conv2D(filters, kernel_size, padding=padding, strides=strides, activation=\"relu\")(x)\n",
        "    c = tf.keras.layers.Conv2D(filters, kernel_size, padding=padding, strides=strides, activation=\"relu\")(c)\n",
        "    return c"
      ],
      "execution_count": 0,
      "outputs": []
    },
    {
      "cell_type": "code",
      "metadata": {
        "trusted": true,
        "id": "mlUWGIn9dtb9",
        "colab_type": "code",
        "colab": {}
      },
      "source": [
        "def UNet():\n",
        "    # Instead of a single model return an array of them\n",
        "    # All of them share the convolution part of the network and \n",
        "    # part of the upsampling\n",
        "    \n",
        "    models = []\n",
        "    \n",
        "    f = [32, 32, 64, 128, 256]\n",
        "    inputs = tf.keras.layers.Input((IMG_HEIGHT, IMG_WIDTH, 3))\n",
        "    p0 = inputs\n",
        "    \n",
        "    downsampling_layers  = [p0]\n",
        "    convolutional_layers = []\n",
        "    # create a downsampling part of the network\n",
        "    # and save the convolutions to enable creation of skip connection\n",
        "    for i, n_filt in enumerate(f[:-1]):\n",
        "        cx, px = down_block(downsampling_layers[i], n_filt) # spatial extent 2A x 2A -> A x A\n",
        "        downsampling_layers.append(px)\n",
        "        convolutional_layers.append(cx)\n",
        "    \n",
        "    bn = bottleneck(downsampling_layers[-1], f[-1])\n",
        "    \n",
        "    #create the upsampling part of the network\n",
        "    upsampling_layers = [bn]\n",
        "    for i, n_filt in enumerate(reversed(f[:-1]) ):\n",
        "        ux = up_block(upsampling_layers[i], convolutional_layers[- i -1], n_filt ) # spatial extent A x A -> 2A x 2A\n",
        "        upsampling_layers.append(ux)\n",
        "\n",
        "    \n",
        "    # for each upsampling layer create a model that can be trained with the same couple of full resolution \n",
        "    # image/mask as the whole nn.\n",
        "    # In order to do so we have to upsample accordingly\n",
        "    for i in range(len(upsampling_layers)-1):\n",
        "        #up sample \n",
        "        upsampling_factor = 2 ** ( len(upsampling_layers) - i -1)\n",
        "        upx     = tf.keras.layers.UpSampling2D((upsampling_factor, upsampling_factor))(upsampling_layers[i])\n",
        "        outputx = tf.keras.layers.Conv2D(1, (1, 1), padding=\"same\", activation=\"sigmoid\")(upx)\n",
        "        nn_name = 'upsampled_'+str(upsampling_factor)\n",
        "        models.append(tf.keras.models.Model(inputs, outputx, name=nn_name))\n",
        "\n",
        "    #create the final model\n",
        "    output = tf.keras.layers.Conv2D(1, (1, 1), padding=\"same\", activation=\"sigmoid\")(upsampling_layers[-1])\n",
        "    models.append( tf.keras.models.Model(inputs, output, name = \"true_model\"))\n",
        "    return models"
      ],
      "execution_count": 0,
      "outputs": []
    },
    {
      "cell_type": "code",
      "metadata": {
        "trusted": true,
        "id": "LY4KAl6wdtb_",
        "colab_type": "code",
        "colab": {}
      },
      "source": [
        "def IoU(y_true, y_pred):\n",
        "    # from probability to predicted class {0, 1}\n",
        "    y_pred = tf.cast(y_pred > 0.5, tf.float32) # when using sigmoid. Use argmax for softmax\n",
        "    # A and B\n",
        "    intersection = tf.reduce_sum(y_true * y_pred)\n",
        "    # A or B\n",
        "    union = tf.reduce_sum(y_true) + tf.reduce_sum(y_pred) - intersection\n",
        "    # IoU\n",
        "    return intersection / union"
      ],
      "execution_count": 0,
      "outputs": []
    },
    {
      "cell_type": "code",
      "metadata": {
        "trusted": true,
        "id": "Hb25yHO_dtcB",
        "colab_type": "code",
        "colab": {}
      },
      "source": [
        "lr = 1e-3\n",
        "optimizer = tf.keras.optimizers.Adam(learning_rate=lr)"
      ],
      "execution_count": 0,
      "outputs": []
    },
    {
      "cell_type": "code",
      "metadata": {
        "trusted": true,
        "id": "_sR1ZgDa3947",
        "colab_type": "code",
        "colab": {}
      },
      "source": [
        "from keras import backend as K\n",
        "\n",
        "def intersection_over_union_loss(y_true, y_pred, smooth=1):\n",
        "    \"\"\"\n",
        "    intersection_over_union_loss = (|X & Y|)/ (|X|+ |Y|- |X & Y|)\n",
        "         =  sum(|A*B|)/(sum(A)+sum(B) - SUM(A * B))\n",
        "    \"\"\"\n",
        "    # from probability to predicted class {0, 1} to a more steep value\n",
        "    #y_pred1= K.sigmoid(20*(y_pred-0.5))\n",
        "    y_pred1 = y_pred\n",
        "    \n",
        "    # A and B\n",
        "    intersection = K.sum(y_true * y_pred1, axis=-1)\n",
        "\n",
        "    # A or B\n",
        "    union = K.sum(y_true, axis=-1) + K.sum(y_pred1, axis=-1) - intersection\n",
        "    #union += K.constant((0,1))\n",
        "    #intersection += K.constant((0,1))\n",
        "    IOU = (K.abs(intersection) / K.abs(union + 0.1)) \n",
        "    \n",
        "    return -(IOU)\n",
        "    #intersection = K.sum(K.abs(y_true * y_pred1), axis=-1)\n",
        "    #return (2. * intersection + smooth)/ (K.sum(K.square(y_true),-1)+ K.sum(K.square(y_pred),-1)+1 )\n",
        "\n",
        "\n",
        "intersection_over_union_loss(  tf.constant([[1.0, 1.0], [0  , 0]]),\n",
        "            tf.constant([[0  , 0.6], [0.0, 0]]) \n",
        "         )"
      ],
      "execution_count": 0,
      "outputs": []
    },
    {
      "cell_type": "code",
      "metadata": {
        "trusted": true,
        "id": "VBOqPRo-394-",
        "colab_type": "code",
        "colab": {}
      },
      "source": [
        "models = UNet()\n",
        "\n",
        "from tensorflow.keras.utils import plot_model\n",
        "#to visuallly check models\n",
        "plot_model(models[0])"
      ],
      "execution_count": 0,
      "outputs": []
    },
    {
      "cell_type": "code",
      "metadata": {
        "trusted": true,
        "id": "7nxywgCLdtcC",
        "colab_type": "code",
        "colab": {}
      },
      "source": [
        "lr = 1e-4\n",
        "sgd = tf.keras.optimizers.SGD(learning_rate=lr, momentum=0.9)\n",
        "\n",
        "#compile\n",
        "for i, m in enumerate(models):\n",
        "    if(i == 0):\n",
        "        m.compile(optimizer=optimizer, loss='binary_crossentropy', metrics=[IoU])\n",
        "    else\n",
        "       m.compile(optimizer=sgd, loss='binary_crossentropy', metrics=[IoU])\n",
        "    #m.compile(optimizer=optimizer, loss=intersection_over_union_loss, metrics=[IoU])\n",
        "    m.summary()"
      ],
      "execution_count": 0,
      "outputs": []
    },
    {
      "cell_type": "markdown",
      "metadata": {
        "id": "zV1QcWy1dtcE",
        "colab_type": "text"
      },
      "source": [
        "# Training"
      ]
    },
    {
      "cell_type": "code",
      "metadata": {
        "trusted": true,
        "id": "6BRb5ocP395D",
        "colab_type": "code",
        "colab": {}
      },
      "source": [
        "# 0's are more frequent in the output than 1's.\n",
        "# In order to take into account that unbalance we try to reweight the loss function\n",
        "#collect weights\n",
        "ite = iter(train_dataset)\n",
        "weights = [0,0]\n",
        "for i in range(len(train_img_gen)):\n",
        "    batch = next(ite)\n",
        "    for s in batch:\n",
        "        img = s[0]\n",
        "        mask = s[1]\n",
        "        weights[0] += np.where(mask == 0)[0].shape[0]\n",
        "        weights[1] += np.where(mask == 1)[0].shape[0]\n",
        "        \n",
        "#weights\n",
        "print(weights)\n",
        "tot = weights[0]+weights[1]\n",
        "\n",
        "weights[0] = tot/weights[0]\n",
        "weights[1] = tot/weights[1]\n"
      ],
      "execution_count": 0,
      "outputs": []
    },
    {
      "cell_type": "code",
      "metadata": {
        "trusted": true,
        "id": "E0cezSQ_395G",
        "colab_type": "code",
        "colab": {}
      },
      "source": [
        "weights"
      ],
      "execution_count": 0,
      "outputs": []
    },
    {
      "cell_type": "code",
      "metadata": {
        "trusted": true,
        "id": "ZKZFJm4pdtcF",
        "colab_type": "code",
        "colab": {}
      },
      "source": [
        "from datetime import datetime\n",
        "\n",
        "callbacks = []\n",
        "\n",
        "# Early Stopping\n",
        "# --------------\n",
        "early_stop = False\n",
        "if early_stop:\n",
        "    es_callback = tf.keras.callback.EarlyStopping(monitor='val_loss', patience=6)\n",
        "    callbacks.append(es_callback)"
      ],
      "execution_count": 0,
      "outputs": []
    },
    {
      "cell_type": "code",
      "metadata": {
        "trusted": true,
        "id": "N7Kx0CiydtcH",
        "colab_type": "code",
        "colab": {}
      },
      "source": [
        "for m in models:\n",
        "    m.fit(x=train_dataset,\n",
        "          epochs=10,\n",
        "          steps_per_epoch=len(train_img_gen),\n",
        "          validation_data=valid_dataset,\n",
        "          validation_steps=len(valid_img_gen), \n",
        "          callbacks=callbacks\n",
        "          ,class_weight = weights)\n",
        "\n",
        "models[-1].save_weights(\"UNet_\" + str(datetime.now().strftime('%b%d_%H-%M')) + \".h5\")"
      ],
      "execution_count": 0,
      "outputs": []
    },
    {
      "cell_type": "markdown",
      "metadata": {
        "id": "V4SY2158mXAL",
        "colab_type": "text"
      },
      "source": [
        "#Load model from weight file\n",
        "\n"
      ]
    },
    {
      "cell_type": "code",
      "metadata": {
        "trusted": true,
        "id": "l7AFW9NfdtcJ",
        "colab_type": "code",
        "colab": {}
      },
      "source": [
        "from ipywidgets import FileUpload\n",
        "upload = FileUpload()\n",
        "upload"
      ],
      "execution_count": 0,
      "outputs": []
    },
    {
      "cell_type": "code",
      "metadata": {
        "trusted": true,
        "id": "MNb0A3uQdtcL",
        "colab_type": "code",
        "colab": {}
      },
      "source": [
        "for i, meta in enumerate(upload.metadata): \n",
        "    print(meta['name']) \n",
        "    with open(meta['name'], \"w+b\") as file_writer: \n",
        "        file_writer.write(upload.data[i])"
      ],
      "execution_count": 0,
      "outputs": []
    },
    {
      "cell_type": "code",
      "metadata": {
        "id": "H_RPYH77nTNO",
        "colab_type": "code",
        "trusted": false,
        "colab": {}
      },
      "source": [
        "#now you can load weigths \n",
        "#model.load_weights"
      ],
      "execution_count": 0,
      "outputs": []
    },
    {
      "cell_type": "code",
      "metadata": {
        "trusted": true,
        "id": "uabv1ShW395Y",
        "colab_type": "code",
        "colab": {}
      },
      "source": [
        ""
      ],
      "execution_count": 0,
      "outputs": []
    },
    {
      "cell_type": "code",
      "metadata": {
        "trusted": true,
        "id": "W7hSbSAE395a",
        "colab_type": "code",
        "colab": {},
        "outputId": "7bbb299f-558a-43b4-e093-f8377e100a45"
      },
      "source": [
        "models[-1].evaluate(valid_dataset,\n",
        "          steps=len(valid_img_gen))\n",
        "\n",
        "models[-1].evaluate(train_dataset,\n",
        "          steps=len(train_img_gen))"
      ],
      "execution_count": 0,
      "outputs": [
        {
          "output_type": "stream",
          "text": [
            "48/48 [==============================] - 8s 169ms/step - loss: 0.2753 - IoU: 0.6739\n"
          ],
          "name": "stdout"
        },
        {
          "output_type": "execute_result",
          "data": {
            "text/plain": [
              "[0.27531634146968526, 0.6738562]"
            ]
          },
          "metadata": {
            "tags": []
          },
          "execution_count": 46
        }
      ]
    },
    {
      "cell_type": "markdown",
      "metadata": {
        "id": "mT2UiHnmpdJ9",
        "colab_type": "text"
      },
      "source": [
        "# Collect results"
      ]
    },
    {
      "cell_type": "code",
      "metadata": {
        "trusted": true,
        "id": "Gzj8BydNdtcM",
        "colab_type": "code",
        "colab": {}
      },
      "source": [
        "def prediction_to_mask(prediction):\n",
        "  return tf.cast(prediction > 0.5, tf.float32)\n",
        "\n",
        "#for TRAINING purposes\n",
        "image_filenames = next(os.walk(PATH+'/test/images/img'))[2]\n",
        "\n",
        "results = {}\n",
        "for image_name in image_filenames:\n",
        "\n",
        "    img = image.load_img(os.path.join(PATH+'/test/images/img', image_name), target_size=(IMG_HEIGHT, IMG_WIDTH))\n",
        "    img_tensor = image.img_to_array(img)                    \n",
        "    img_tensor = np.expand_dims(img_tensor, axis=0)         \n",
        "    img_tensor /= 255. \n",
        "    \n",
        "    #take the name of the file disregarding of the extension \n",
        "    name_without_ext = image_name[:-4]\n",
        "    #obtain the prediction from the model\n",
        "    prediction = models[-1].predict(img_tensor)[0]\n",
        "   \n",
        "    #transform into a mask\n",
        "    results[name_without_ext] = prediction_to_mask(prediction)\n"
      ],
      "execution_count": 0,
      "outputs": []
    },
    {
      "cell_type": "code",
      "metadata": {
        "id": "5vkb3tmbsNh9",
        "colab_type": "code",
        "trusted": true,
        "colab": {}
      },
      "source": [
        "#results\n",
        "a = np.array([[255,255,255],[0,0,0]])\n",
        "\n",
        "np.where(a == (255,255,255), (1,1,1), (2,2,2))\n",
        " "
      ],
      "execution_count": 0,
      "outputs": []
    },
    {
      "cell_type": "code",
      "metadata": {
        "trusted": true,
        "id": "tFYTn7m9dtcQ",
        "colab_type": "code",
        "colab": {}
      },
      "source": [
        "def plotImageAndMask(img, mask=None, pred=None):\n",
        "  red = (255, 0, 0)\n",
        "  black = (0,0,0)\n",
        "  white = (255,255,255)\n",
        "  green = (0, 255,0)\n",
        "\n",
        "  plt.figure(figsize=(15, 15))\n",
        "  plt.imshow(img, 'gray', interpolation='none')\n",
        "  if(mask is not None):\n",
        "      transf_mask = np.where( mask == white , red , black )\n",
        "      plt.imshow(transf_mask, interpolation='none', alpha=0.2)\n",
        "  if(pred is not None):\n",
        "      transf_pred = np.where( pred == white , green , black )\n",
        "      plt.imshow(transf_pred, interpolation='none', alpha=0.2)\n",
        "  plt.show()\n",
        "  #in red what has to be captured\n",
        "  #in green what is captured only by our model\n",
        "  #in orange what is captured by both\n"
      ],
      "execution_count": 0,
      "outputs": []
    },
    {
      "cell_type": "code",
      "metadata": {
        "trusted": true,
        "id": "Plv-N2j4dtcU",
        "colab_type": "code",
        "colab": {}
      },
      "source": [
        "for image_name in image_filenames[:15]:\n",
        "  \n",
        "\n",
        "  img = image.load_img(os.path.join(PATH+'/test/images/img', image_name), target_size=(IMG_HEIGHT, IMG_WIDTH))\n",
        "  #mask1 = image.load_img(os.path.join(PATH+'/training/masks/img', image_name), target_size=(IMG_HEIGHT, IMG_WIDTH))\n",
        "  img_tensor = image.img_to_array(img)                    \n",
        "  img_tensor = np.expand_dims(img_tensor, axis=0)         \n",
        "  img_tensor /= 255. \n",
        "\n",
        "  name_without_ext = image_name[:-4]\n",
        "  pred = results[name_without_ext]\n",
        "\n",
        "  mask2 = grayscale_to_colour(pred)\n",
        "  #plotImageAndMask(img, image.img_to_array(mask1), mask2)\n",
        "  plotImageAndMask(img, pred=mask2)"
      ],
      "execution_count": 0,
      "outputs": []
    },
    {
      "cell_type": "code",
      "metadata": {
        "trusted": true,
        "id": "_icln2TF395l",
        "colab_type": "code",
        "colab": {}
      },
      "source": [
        "for image_name in image_filenames[:15]:\n",
        "  \n",
        "\n",
        "  img = image.load_img(os.path.join(PATH+'/training/images/img', image_name), target_size=(IMG_HEIGHT, IMG_WIDTH))\n",
        "  mask1 = image.load_img(os.path.join(PATH+'/training/masks/img', image_name), target_size=(IMG_HEIGHT, IMG_WIDTH))\n",
        "  img_tensor = image.img_to_array(img)                    \n",
        "  img_tensor = np.expand_dims(img_tensor, axis=0)         \n",
        "  img_tensor /= 255. \n",
        "\n",
        "  name_without_ext = image_name[:-4]\n",
        "  pred = results[name_without_ext]\n",
        "\n",
        "  mask2 = grayscale_to_colour(pred)\n",
        "  plotImageAndMask(img, image.img_to_array(mask1), mask2)\n"
      ],
      "execution_count": 0,
      "outputs": []
    },
    {
      "cell_type": "code",
      "metadata": {
        "trusted": true,
        "id": "S-QX_MqpdtcX",
        "colab_type": "code",
        "colab": {}
      },
      "source": [
        "def rle_encode(img):\n",
        "    # Flatten column-wise\n",
        "    pixels = img.T.flatten()\n",
        "    pixels = np.concatenate([[0], pixels, [0]])\n",
        "    runs = np.where(pixels[1:] != pixels[:-1])[0] + 1\n",
        "    runs[1::2] -= runs[::2]\n",
        "    return ' '.join(str(x) for x in runs)\n",
        "\n",
        "#for img_name in results[:1]:\n",
        "#    print(rle_encode(np.array(results[img_name])))"
      ],
      "execution_count": 0,
      "outputs": []
    },
    {
      "cell_type": "code",
      "metadata": {
        "trusted": true,
        "id": "tOz2K4i2dtcZ",
        "colab_type": "code",
        "colab": {}
      },
      "source": [
        "def create_csv(results, results_dir='./'):\n",
        "\n",
        "    csv_fname = 'results_'\n",
        "    csv_fname += datetime.now().strftime('%b%d_%H-%M-%S') + '.csv'\n",
        "\n",
        "    with open(csv_fname, 'w') as f:\n",
        "\n",
        "        f.write('ImageId,EncodedPixels,Width,Height\\n')\n",
        "\n",
        "        for key, value in results.items():\n",
        "            f.write(key + ',' + str(rle_encode(np.array(value))) + ',' + '256' + ',' + '256' + '\\n')"
      ],
      "execution_count": 0,
      "outputs": []
    },
    {
      "cell_type": "code",
      "metadata": {
        "trusted": true,
        "id": "qC3qWw2adtca",
        "colab_type": "code",
        "colab": {}
      },
      "source": [
        "create_csv(results)"
      ],
      "execution_count": 0,
      "outputs": []
    },
    {
      "cell_type": "code",
      "metadata": {
        "trusted": true,
        "id": "xeoqQ_Fo395s",
        "colab_type": "code",
        "colab": {}
      },
      "source": [
        "!kaggle competitions submit -c ann-and-dl-image-segmentation -f results_Dec04_17-25-10.csv -m \"Trained Unet with successive refinement\""
      ],
      "execution_count": 0,
      "outputs": []
    },
    {
      "cell_type": "code",
      "metadata": {
        "trusted": true,
        "id": "lRzJ5XWy395v",
        "colab_type": "code",
        "colab": {}
      },
      "source": [
        ""
      ],
      "execution_count": 0,
      "outputs": []
    }
  ]
}