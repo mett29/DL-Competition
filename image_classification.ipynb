{
  "nbformat": 4,
  "nbformat_minor": 0,
  "metadata": {
    "colab": {
      "name": "image_classification.ipynb",
      "provenance": [],
      "collapsed_sections": [],
      "include_colab_link": true
    },
    "kernelspec": {
      "name": "python3",
      "display_name": "Python 3"
    },
    "accelerator": "GPU"
  },
  "cells": [
    {
      "cell_type": "markdown",
      "metadata": {
        "id": "view-in-github",
        "colab_type": "text"
      },
      "source": [
        "<a href=\"https://colab.research.google.com/github/mett29/DL-Competition/blob/master/image_classification.ipynb\" target=\"_parent\"><img src=\"https://colab.research.google.com/assets/colab-badge.svg\" alt=\"Open In Colab\"/></a>"
      ]
    },
    {
      "cell_type": "code",
      "metadata": {
        "id": "LZRVEZFX9xjy",
        "colab_type": "code",
        "colab": {}
      },
      "source": [
        "!pip install tensorflow==2.0.0"
      ],
      "execution_count": 0,
      "outputs": []
    },
    {
      "cell_type": "code",
      "metadata": {
        "id": "Q6LVCpSw-cJE",
        "colab_type": "code",
        "colab": {}
      },
      "source": [
        "!pip install -U -q kaggle\n",
        "!mkdir -p ~/.kaggle"
      ],
      "execution_count": 0,
      "outputs": []
    },
    {
      "cell_type": "code",
      "metadata": {
        "id": "mxLH0yOlDX72",
        "colab_type": "code",
        "colab": {}
      },
      "source": [
        "from google.colab import files\n",
        "files.upload()"
      ],
      "execution_count": 0,
      "outputs": []
    },
    {
      "cell_type": "code",
      "metadata": {
        "id": "Uj50stcrCwbq",
        "colab_type": "code",
        "colab": {}
      },
      "source": [
        "!cp kaggle.json ~/.kaggle/"
      ],
      "execution_count": 0,
      "outputs": []
    },
    {
      "cell_type": "code",
      "metadata": {
        "id": "Zvub9nArC1e0",
        "colab_type": "code",
        "outputId": "fea2dad6-701d-441f-eb68-a2559f83cdfb",
        "colab": {
          "base_uri": "https://localhost:8080/",
          "height": 134
        }
      },
      "source": [
        "from getpass import getpass\n",
        "import os\n",
        "\n",
        "user = getpass('Github user')\n",
        "password = getpass('Github password')\n",
        "os.environ['GITHUB_AUTH'] = user + ':' + password\n",
        "\n",
        "#!git clone https://$GITHUB_AUTH@github.com/mett29/DL-Competition.git\n",
        "#!git submodule update --init --recursive\n",
        "!git clone https://$GITHUB_AUTH@github.com/DanieleParravicini/DL-CompetitionsDatasets"
      ],
      "execution_count": 75,
      "outputs": [
        {
          "output_type": "stream",
          "text": [
            "Github user··········\n",
            "Github password··········\n",
            "Cloning into 'DL-CompetitionsDatasets'...\n",
            "remote: Enumerating objects: 2079, done.\u001b[K\n",
            "remote: Total 2079 (delta 0), reused 0 (delta 0), pack-reused 2079\u001b[K\n",
            "Receiving objects: 100% (2079/2079), 90.16 MiB | 12.41 MiB/s, done.\n",
            "Resolving deltas: 100% (3/3), done.\n"
          ],
          "name": "stdout"
        }
      ]
    },
    {
      "cell_type": "code",
      "metadata": {
        "id": "jHb1s-kdG5p2",
        "colab_type": "code",
        "colab": {
          "base_uri": "https://localhost:8080/",
          "height": 50
        },
        "outputId": "2b009873-39b0-46f7-8cd2-12d80e193257"
      },
      "source": [
        "from __future__ import absolute_import, division, print_function, unicode_literals\n",
        "try:\n",
        "  # %tensorflow_version only exists in Colab.\n",
        "  %tensorflow_version 2.x\n",
        "except Exception:\n",
        "  pass\n",
        "import tensorflow as tf\n",
        "print(tf.__version__)"
      ],
      "execution_count": 1,
      "outputs": [
        {
          "output_type": "stream",
          "text": [
            "TensorFlow 2.x selected.\n",
            "2.0.0\n"
          ],
          "name": "stdout"
        }
      ]
    },
    {
      "cell_type": "code",
      "metadata": {
        "id": "L7qGHGZSHAgq",
        "colab_type": "code",
        "colab": {}
      },
      "source": [
        "from tensorflow.keras.models import Sequential\n",
        "from tensorflow.keras.layers import Dense, Conv2D, Flatten, Dropout, MaxPooling2D\n",
        "from tensorflow.keras.preprocessing.image import ImageDataGenerator\n",
        "\n",
        "import os\n",
        "import numpy as np\n",
        "import matplotlib.pyplot as plt\n",
        "from sklearn.model_selection import train_test_split"
      ],
      "execution_count": 0,
      "outputs": []
    },
    {
      "cell_type": "code",
      "metadata": {
        "id": "QslfsFmLUgJX",
        "colab_type": "code",
        "colab": {}
      },
      "source": [
        "!apt-get install tree"
      ],
      "execution_count": 0,
      "outputs": []
    },
    {
      "cell_type": "code",
      "metadata": {
        "id": "xpN55jkITDu6",
        "colab_type": "code",
        "colab": {
          "base_uri": "https://localhost:8080/",
          "height": 437
        },
        "outputId": "1935d70b-a422-4acf-8e70-a5b64dea2d4a"
      },
      "source": [
        "PATH = \"DL-CompetitionsDatasets/Classification_Dataset\"\n",
        "!tree DL-Competition/Classification_Dataset/ -d"
      ],
      "execution_count": 29,
      "outputs": [
        {
          "output_type": "stream",
          "text": [
            "DL-Competition/Classification_Dataset/\n",
            "├── test\n",
            "└── training\n",
            "    ├── airplanes\n",
            "    ├── bear\n",
            "    ├── calculator\n",
            "    ├── computer-monitor\n",
            "    ├── fireworks\n",
            "    ├── galaxy\n",
            "    ├── grand-piano\n",
            "    ├── kangaroo\n",
            "    ├── laptop\n",
            "    ├── lightbulb\n",
            "    ├── lightning\n",
            "    ├── mountain-bike\n",
            "    ├── owl\n",
            "    ├── school-bus\n",
            "    ├── sheet-music\n",
            "    ├── skyscraper\n",
            "    ├── sword\n",
            "    ├── t-shirt\n",
            "    ├── waterfall\n",
            "    └── wine-bottle\n",
            "\n",
            "22 directories\n"
          ],
          "name": "stdout"
        }
      ]
    },
    {
      "cell_type": "code",
      "metadata": {
        "id": "3NwSYOXEuv_4",
        "colab_type": "code",
        "colab": {}
      },
      "source": [
        "SEED = 1234\n",
        "tf.random.set_seed(SEED) "
      ],
      "execution_count": 0,
      "outputs": []
    },
    {
      "cell_type": "code",
      "metadata": {
        "id": "7SwwKRCJT7RM",
        "colab_type": "code",
        "colab": {}
      },
      "source": [
        "apply_data_augmentation = False\n",
        "\n",
        "# Create training ImageDataGenerator object\n",
        "if apply_data_augmentation:\n",
        "    train_data_gen = ImageDataGenerator(rotation_range=10,\n",
        "                                        width_shift_range=10,\n",
        "                                        height_shift_range=10,\n",
        "                                        zoom_range=0.3,\n",
        "                                        horizontal_flip=True,\n",
        "                                        vertical_flip=True,\n",
        "                                        fill_mode='constant',\n",
        "                                        cval=0,\n",
        "                                        rescale=1./255,\n",
        "                                        validation_split=0.2)\n",
        "else:\n",
        "    train_data_gen = ImageDataGenerator(rescale=1./255,\n",
        "                                        fill_mode='constant',\n",
        "                                        cval=0,\n",
        "                                        validation_split=0.2)\n",
        "\n",
        "# Create test ImageDataGenerator objects\n",
        "test_data_gen = ImageDataGenerator(rescale=1./255)"
      ],
      "execution_count": 0,
      "outputs": []
    },
    {
      "cell_type": "code",
      "metadata": {
        "id": "Hsfq_G0fWWzi",
        "colab_type": "code",
        "colab": {
          "base_uri": "https://localhost:8080/",
          "height": 50
        },
        "outputId": "2085b231-ae5c-4b25-c340-391b4b85aac4"
      },
      "source": [
        "batch_size = 128\n",
        "no_epochs = 20\n",
        "no_classes = 20\n",
        "validation_split = 0.2\n",
        "\n",
        "IMG_HEIGHT = 256\n",
        "IMG_WIDTH = 256\n",
        "\n",
        "decide_class_indices = False\n",
        "if decide_class_indices:\n",
        "    classes = ['airplanes',           # 0\n",
        "               'bear',                # 1\n",
        "               'calculator',          # 2\n",
        "               'computer-monitor',    # 3\n",
        "               'fireworks',           # 4\n",
        "               'galaxy',              # 5\n",
        "               'grand-piano',         # 6\n",
        "               'kangaroo',            # 7\n",
        "               'laptop',              # 8\n",
        "               'lightbulb',           # 9\n",
        "               'lightning',           # 10\n",
        "               'mountain-bike',       # 11\n",
        "               'owl',                 # 12\n",
        "               'school-bus',          # 13\n",
        "               'sheet-music',         # 14\n",
        "               'skyscraper',          # 15\n",
        "               'sword',               # 16\n",
        "               't-shirt',             # 17\n",
        "               'waterfall',           # 18\n",
        "               'wine-bottle']         # 19\n",
        "else:\n",
        "    classes=None\n",
        "\n",
        "dataset_dir = os.path.join(PATH, 'training')\n",
        "\n",
        "train_gen = train_data_gen.flow_from_directory(dataset_dir,\n",
        "                                               batch_size=batch_size,\n",
        "                                               classes=classes,\n",
        "                                               class_mode='categorical',\n",
        "                                               shuffle=True,\n",
        "                                               subset='training',\n",
        "                                               seed=SEED)\n",
        "\n",
        "# Validation\n",
        "valid_gen = train_data_gen.flow_from_directory(dataset_dir,\n",
        "                                               batch_size=batch_size, \n",
        "                                               classes=classes,\n",
        "                                               class_mode='categorical',\n",
        "                                               shuffle=False,\n",
        "                                               subset='validation',\n",
        "                                               seed=SEED)"
      ],
      "execution_count": 68,
      "outputs": [
        {
          "output_type": "stream",
          "text": [
            "Found 1247 images belonging to 20 classes.\n",
            "Found 307 images belonging to 20 classes.\n"
          ],
          "name": "stdout"
        }
      ]
    },
    {
      "cell_type": "code",
      "metadata": {
        "id": "y7myXIXMVhAd",
        "colab_type": "code",
        "colab": {}
      },
      "source": [
        "train_dataset = tf.data.Dataset.from_generator(lambda: train_gen,\n",
        "                                               output_types=(tf.float32, tf.float32),\n",
        "                                               output_shapes=([None, IMG_HEIGHT, IMG_WIDTH, 3], [None, no_classes]))\n",
        "\n",
        "train_dataset = train_dataset.repeat()\n",
        "\n",
        "valid_dataset = tf.data.Dataset.from_generator(lambda: valid_gen, \n",
        "                                               output_types=(tf.float32, tf.float32),\n",
        "                                               output_shapes=([None, IMG_HEIGHT, IMG_WIDTH, 3], [None, no_classes]))\n",
        "\n",
        "valid_dataset = valid_dataset.repeat()"
      ],
      "execution_count": 0,
      "outputs": []
    },
    {
      "cell_type": "code",
      "metadata": {
        "id": "RzTofEWH0gs6",
        "colab_type": "code",
        "colab": {
          "base_uri": "https://localhost:8080/",
          "height": 353
        },
        "outputId": "252c9b17-0366-45ad-a7de-57a72552ae5a"
      },
      "source": [
        "train_gen.class_indices"
      ],
      "execution_count": 70,
      "outputs": [
        {
          "output_type": "execute_result",
          "data": {
            "text/plain": [
              "{'airplanes': 0,\n",
              " 'bear': 1,\n",
              " 'calculator': 2,\n",
              " 'computer-monitor': 3,\n",
              " 'fireworks': 4,\n",
              " 'galaxy': 5,\n",
              " 'grand-piano': 6,\n",
              " 'kangaroo': 7,\n",
              " 'laptop': 8,\n",
              " 'lightbulb': 9,\n",
              " 'lightning': 10,\n",
              " 'mountain-bike': 11,\n",
              " 'owl': 12,\n",
              " 'school-bus': 13,\n",
              " 'sheet-music': 14,\n",
              " 'skyscraper': 15,\n",
              " 'sword': 16,\n",
              " 't-shirt': 17,\n",
              " 'waterfall': 18,\n",
              " 'wine-bottle': 19}"
            ]
          },
          "metadata": {
            "tags": []
          },
          "execution_count": 70
        }
      ]
    },
    {
      "cell_type": "code",
      "metadata": {
        "id": "9BfB41yT0x17",
        "colab_type": "code",
        "colab": {}
      },
      "source": [
        "model = Sequential([\n",
        "    Conv2D(16, 3, padding='same', activation='relu', input_shape=(IMG_HEIGHT, IMG_WIDTH, 3)),\n",
        "    MaxPooling2D(),\n",
        "    Conv2D(32, 3, padding='same', activation='relu'),\n",
        "    MaxPooling2D(),\n",
        "    Conv2D(64, 3, padding='same', activation='relu'),\n",
        "    MaxPooling2D(),\n",
        "    Flatten(),\n",
        "    Dense(512, activation='relu'),\n",
        "    Dense(20, activation='softmax')\n",
        "])"
      ],
      "execution_count": 0,
      "outputs": []
    },
    {
      "cell_type": "code",
      "metadata": {
        "id": "p8JcePpS1v9C",
        "colab_type": "code",
        "colab": {
          "base_uri": "https://localhost:8080/",
          "height": 454
        },
        "outputId": "580c16c7-591e-418c-fe37-e43b7390eec5"
      },
      "source": [
        "model.summary()"
      ],
      "execution_count": 72,
      "outputs": [
        {
          "output_type": "stream",
          "text": [
            "Model: \"sequential_3\"\n",
            "_________________________________________________________________\n",
            "Layer (type)                 Output Shape              Param #   \n",
            "=================================================================\n",
            "conv2d_9 (Conv2D)            (None, 256, 256, 16)      448       \n",
            "_________________________________________________________________\n",
            "max_pooling2d_9 (MaxPooling2 (None, 128, 128, 16)      0         \n",
            "_________________________________________________________________\n",
            "conv2d_10 (Conv2D)           (None, 128, 128, 32)      4640      \n",
            "_________________________________________________________________\n",
            "max_pooling2d_10 (MaxPooling (None, 64, 64, 32)        0         \n",
            "_________________________________________________________________\n",
            "conv2d_11 (Conv2D)           (None, 64, 64, 64)        18496     \n",
            "_________________________________________________________________\n",
            "max_pooling2d_11 (MaxPooling (None, 32, 32, 64)        0         \n",
            "_________________________________________________________________\n",
            "flatten_3 (Flatten)          (None, 65536)             0         \n",
            "_________________________________________________________________\n",
            "dense_6 (Dense)              (None, 512)               33554944  \n",
            "_________________________________________________________________\n",
            "dense_7 (Dense)              (None, 20)                10260     \n",
            "=================================================================\n",
            "Total params: 33,588,788\n",
            "Trainable params: 33,588,788\n",
            "Non-trainable params: 0\n",
            "_________________________________________________________________\n"
          ],
          "name": "stdout"
        }
      ]
    },
    {
      "cell_type": "code",
      "metadata": {
        "id": "M_YGOFkN1EgB",
        "colab_type": "code",
        "colab": {}
      },
      "source": [
        "# Optimization parameters\n",
        "loss = tf.keras.losses.CategoricalCrossentropy()\n",
        "lr = 1e-3\n",
        "optimizer = tf.keras.optimizers.Adam(learning_rate=lr)\n",
        "\n",
        "# Validation metrics\n",
        "metrics = ['accuracy']\n",
        "\n",
        "# Compile Model\n",
        "model.compile(optimizer=optimizer, loss=loss, metrics=metrics)"
      ],
      "execution_count": 0,
      "outputs": []
    },
    {
      "cell_type": "code",
      "metadata": {
        "id": "-OyBJaHc2GEs",
        "colab_type": "code",
        "colab": {
          "base_uri": "https://localhost:8080/",
          "height": 554
        },
        "outputId": "d0033d0b-3aed-4c49-b8c6-be53ffd95d85"
      },
      "source": [
        "model.fit(x=train_dataset,\n",
        "          epochs=epochs,\n",
        "          steps_per_epoch=len(train_gen),\n",
        "          validation_data=valid_dataset,\n",
        "          validation_steps=len(valid_gen)\n",
        "         )"
      ],
      "execution_count": 74,
      "outputs": [
        {
          "output_type": "stream",
          "text": [
            "Train for 10 steps, validate for 3 steps\n",
            "Epoch 1/15\n",
            "10/10 [==============================] - 16s 2s/step - loss: 4.0702 - accuracy: 0.0690 - val_loss: 2.9515 - val_accuracy: 0.0586\n",
            "Epoch 2/15\n",
            "10/10 [==============================] - 9s 940ms/step - loss: 2.7702 - accuracy: 0.1772 - val_loss: 2.6375 - val_accuracy: 0.2606\n",
            "Epoch 3/15\n",
            "10/10 [==============================] - 9s 936ms/step - loss: 2.1684 - accuracy: 0.3705 - val_loss: 2.2790 - val_accuracy: 0.3388\n",
            "Epoch 4/15\n",
            "10/10 [==============================] - 9s 931ms/step - loss: 1.6259 - accuracy: 0.5309 - val_loss: 2.0793 - val_accuracy: 0.4137\n",
            "Epoch 5/15\n",
            "10/10 [==============================] - 9s 928ms/step - loss: 1.2161 - accuracy: 0.6480 - val_loss: 1.9838 - val_accuracy: 0.4397\n",
            "Epoch 6/15\n",
            "10/10 [==============================] - 9s 933ms/step - loss: 0.8049 - accuracy: 0.7755 - val_loss: 2.0073 - val_accuracy: 0.4691\n",
            "Epoch 7/15\n",
            "10/10 [==============================] - 9s 941ms/step - loss: 0.5150 - accuracy: 0.8653 - val_loss: 2.1791 - val_accuracy: 0.4886\n",
            "Epoch 8/15\n",
            "10/10 [==============================] - 9s 937ms/step - loss: 0.3332 - accuracy: 0.9110 - val_loss: 2.8888 - val_accuracy: 0.4332\n",
            "Epoch 9/15\n",
            "10/10 [==============================] - 9s 941ms/step - loss: 0.3011 - accuracy: 0.9230 - val_loss: 2.9803 - val_accuracy: 0.4332\n",
            "Epoch 10/15\n",
            "10/10 [==============================] - 9s 937ms/step - loss: 0.1279 - accuracy: 0.9751 - val_loss: 3.0447 - val_accuracy: 0.4756\n",
            "Epoch 11/15\n",
            "10/10 [==============================] - 9s 931ms/step - loss: 0.0672 - accuracy: 0.9880 - val_loss: 3.0660 - val_accuracy: 0.4625\n",
            "Epoch 12/15\n",
            "10/10 [==============================] - 9s 935ms/step - loss: 0.0358 - accuracy: 0.9944 - val_loss: 3.1737 - val_accuracy: 0.4658\n",
            "Epoch 13/15\n",
            "10/10 [==============================] - 9s 936ms/step - loss: 0.0233 - accuracy: 0.9968 - val_loss: 3.6913 - val_accuracy: 0.4202\n",
            "Epoch 14/15\n",
            "10/10 [==============================] - 9s 930ms/step - loss: 0.0182 - accuracy: 0.9976 - val_loss: 3.4566 - val_accuracy: 0.4853\n",
            "Epoch 15/15\n",
            "10/10 [==============================] - 9s 929ms/step - loss: 0.0117 - accuracy: 0.9976 - val_loss: 3.4767 - val_accuracy: 0.4593\n"
          ],
          "name": "stdout"
        },
        {
          "output_type": "execute_result",
          "data": {
            "text/plain": [
              "<tensorflow.python.keras.callbacks.History at 0x7f8f1fe16278>"
            ]
          },
          "metadata": {
            "tags": []
          },
          "execution_count": 74
        }
      ]
    },
    {
      "cell_type": "code",
      "metadata": {
        "id": "nXcS3vc83McT",
        "colab_type": "code",
        "colab": {}
      },
      "source": [
        ""
      ],
      "execution_count": 0,
      "outputs": []
    }
  ]
}